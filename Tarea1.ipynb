{
 "cells": [
  {
   "cell_type": "code",
   "execution_count": 1,
   "id": "bcb23142",
   "metadata": {},
   "outputs": [],
   "source": [
    "#Cargamos librerias\n",
    "from functions import *"
   ]
  },
  {
   "cell_type": "markdown",
   "id": "a43b42c0",
   "metadata": {},
   "source": [
    "Para empezar a trabajar con nuestro robot vamos a activarle con la función \"EMPEZAR\". \n",
    "Recuerda que para ejecutar una instrucción hace falta darle al botoń del \"play\"\n"
   ]
  },
  {
   "cell_type": "code",
   "execution_count": 9,
   "id": "03640828",
   "metadata": {},
   "outputs": [
    {
     "name": "stdout",
     "output_type": "stream",
     "text": [
      "   __,_,\n",
      "  [_|_/ \n",
      "   //\n",
      " _//    __\n",
      "(_|)   |@@|\n",
      " \\ \\__ \\--/ __\n",
      "  \\o__|----|  |   __\n",
      "      \\ }{ /\\ )_ / _\n",
      "      /\\__/\\ \\__O (__\n",
      "      (--/\\--)    \\__/\n",
      "      _)(  )(_\n",
      "     `---''---`\n",
      "¡YA PODEMOS EMPEZAR CON NUESTRO ROBOT¡\n"
     ]
    }
   ],
   "source": [
    "EMPEZAR() "
   ]
  },
  {
   "cell_type": "markdown",
   "id": "12fce60b",
   "metadata": {},
   "source": [
    "# LED"
   ]
  },
  {
   "cell_type": "markdown",
   "id": "583ce8a0",
   "metadata": {},
   "source": [
    "Los leds son bombillitas que nosotros podemos apagar y encender con instrucciones. \n",
    "\n",
    "\n",
    "Tambien en programación se les llama actuadores ya que sirven para que nosotros tengamos una señal de nuestra programación."
   ]
  },
  {
   "cell_type": "code",
   "execution_count": 1,
   "id": "f9b09b3f",
   "metadata": {},
   "outputs": [
    {
     "data": {
      "text/html": [
       "<img src= \"leds.jpg\" style=\"height:50px  text-align: center\" >\n"
      ],
      "text/plain": [
       "<IPython.core.display.HTML object>"
      ]
     },
     "metadata": {},
     "output_type": "display_data"
    }
   ],
   "source": [
    "%%HTML\n",
    "<img src= \"leds.jpg\" style=\"height:50px  text-align: center\" >"
   ]
  },
  {
   "cell_type": "markdown",
   "id": "6b01c5dc",
   "metadata": {},
   "source": [
    "## La Instrucción \"encender\""
   ]
  },
  {
   "cell_type": "markdown",
   "id": "64d72967",
   "metadata": {},
   "source": [
    "La instrucción \"encender\" sirve para encender un led con programación."
   ]
  },
  {
   "cell_type": "markdown",
   "id": "0d3d7bc0",
   "metadata": {},
   "source": [
    "### ¿Como se programaría?"
   ]
  },
  {
   "cell_type": "markdown",
   "id": "5f404d28",
   "metadata": {},
   "source": [
    "\n",
    "\n",
    "Esta instrucción se construye de la siguiente forma:\n",
    "\n",
    "        encender(\"color\",\"tiempo\")\n",
    "La intrucción encender como vemos necesita dos argumentos:\n",
    "\n",
    "    1- \"color\", El color del led que queremos que queremos encender.\n",
    "    2- \"tiempo\", el tiempo en número que queremos que esté encendido el led.\n",
    "    "
   ]
  },
  {
   "cell_type": "markdown",
   "id": "30a2a613",
   "metadata": {},
   "source": [
    "### Un ejemplo de la instrucción encender"
   ]
  },
  {
   "cell_type": "markdown",
   "id": "4fb2fb0c",
   "metadata": {},
   "source": [
    "Vamos a hacer y ejecutar la instrucción de encender por ejemplo el led azul durante 5 segundos"
   ]
  },
  {
   "cell_type": "code",
   "execution_count": 3,
   "id": "8d058cec",
   "metadata": {},
   "outputs": [],
   "source": [
    "encender(rojo,tiempo=5)"
   ]
  },
  {
   "cell_type": "markdown",
   "id": "babade28",
   "metadata": {},
   "source": [
    "### Ahora tu"
   ]
  },
  {
   "cell_type": "markdown",
   "id": "47376fd2",
   "metadata": {},
   "source": [
    "Ahora tu, escribe y ejecuta las siguientes instrucciones:\n",
    "\n",
    "    1- Encender el led verde durante 5 segundos\n"
   ]
  },
  {
   "cell_type": "code",
   "execution_count": null,
   "id": "ba4fe311",
   "metadata": {},
   "outputs": [],
   "source": [
    "#ESCRIBE AQUI EL CÓDIGO DE TU PROGRAMACION \n"
   ]
  },
  {
   "cell_type": "markdown",
   "id": "a1d01305",
   "metadata": {},
   "source": [
    "# El Timbre"
   ]
  },
  {
   "cell_type": "markdown",
   "id": "5ee8d78b",
   "metadata": {},
   "source": [
    "El timbre ó \"buzzer\" nos avisa mediante el sonido, y al igual que el led se puede programar para que funcione durante el tiempo que nosotros le digamos.\n"
   ]
  },
  {
   "cell_type": "code",
   "execution_count": 2,
   "id": "d373190b",
   "metadata": {},
   "outputs": [
    {
     "data": {
      "text/html": [
       "<img src= \"buzzer2.jpg\" style=\"height:50px  text-align: center\" >\n"
      ],
      "text/plain": [
       "<IPython.core.display.HTML object>"
      ]
     },
     "metadata": {},
     "output_type": "display_data"
    }
   ],
   "source": [
    "%%HTML\n",
    "<img src= \"buzzer2.jpg\" style=\"height:50px  text-align: center\" >"
   ]
  },
  {
   "cell_type": "markdown",
   "id": "01e98452",
   "metadata": {},
   "source": [
    "## La Instrucción sonar"
   ]
  },
  {
   "cell_type": "markdown",
   "id": "7e41f090",
   "metadata": {},
   "source": [
    "Vamos a utilizar la instrucción \"sonar\" para activar nuestro timbre."
   ]
  },
  {
   "cell_type": "markdown",
   "id": "71002e4e",
   "metadata": {},
   "source": [
    "### ¿Como se programaría?\n"
   ]
  },
  {
   "cell_type": "markdown",
   "id": "8ed07a88",
   "metadata": {},
   "source": [
    "La instrucción \"sonar\" se contruye de la siguiente forma:\n",
    "        \n",
    "        sonar(timbre,\"tiempo\")\n",
    "\n",
    "Como vemos la intrucción como necesita dos datos:\n",
    "\n",
    "    1- el \"timbre\", El nombre del timbre que queremos que suene.\n",
    "    2- \"tiempo\", el tiempo en número que queremos que esté sonando nuestro timbre."
   ]
  },
  {
   "cell_type": "markdown",
   "id": "b05a5ffc",
   "metadata": {},
   "source": [
    "### Un ejemplo de la instruccion sonar"
   ]
  },
  {
   "cell_type": "markdown",
   "id": "678ad65b",
   "metadata": {},
   "source": [
    "Vamos a hacer y ejecutar la instrucción de sonar el timbre durante  segundos."
   ]
  },
  {
   "cell_type": "code",
   "execution_count": 6,
   "id": "0ab72363",
   "metadata": {},
   "outputs": [
    {
     "name": "stdout",
     "output_type": "stream",
     "text": [
      "***********************************\n",
      "****FIN DE LA INSTRUCCIÓN SONAR****\n",
      "***********************************\n"
     ]
    }
   ],
   "source": [
    "sonar(timbre,10)"
   ]
  },
  {
   "cell_type": "markdown",
   "id": "3d381391",
   "metadata": {},
   "source": [
    "### Ahora tu"
   ]
  },
  {
   "cell_type": "markdown",
   "id": "e1308038",
   "metadata": {},
   "source": [
    "Ahora tu, escribe y ejecuta las siguientes instrucciones:\n",
    "\n",
    "    1- Encender el timbre suene durante 2 segundos"
   ]
  },
  {
   "cell_type": "code",
   "execution_count": null,
   "id": "90dd74d1",
   "metadata": {},
   "outputs": [],
   "source": [
    "#ESCRIBE AQUI EL CÓDIGO DE TU PROGRAMACION \n"
   ]
  },
  {
   "cell_type": "markdown",
   "id": "b47e29da",
   "metadata": {},
   "source": [
    "# Nuestro primer Algoritmo"
   ]
  },
  {
   "cell_type": "markdown",
   "id": "0827b71e",
   "metadata": {},
   "source": [
    "Como Maria Luisa nos ha contado en clase, un Algoritmo en una programacion es un conjunto de instrucciones ordenadas que le damos al robot.\n",
    "\n",
    "Es importante lo de ordenadas según queramos que se ejecuten. "
   ]
  },
  {
   "cell_type": "markdown",
   "id": "ddff6e5d",
   "metadata": {},
   "source": [
    "Un ejemplo sería darle a nuestro Robot las siguientes instrucciones:\n",
    "    \n",
    "    1-Enciende Led amarillo 3 segundos.\n",
    "    2-Enciende Led azul 2 segundos.\n",
    "    3-Que suene el tiembre durante 1 segundos\n",
    "    "
   ]
  },
  {
   "cell_type": "markdown",
   "id": "e3f568b7",
   "metadata": {},
   "source": [
    "### ¿Como se programaría este algoritmo?"
   ]
  },
  {
   "cell_type": "markdown",
   "id": "4374c7bc",
   "metadata": {},
   "source": [
    "\n",
    "\n",
    "Utilizariamos las instrucciones de encender y sonar con los tiempos que nos piden para cada \"actuador\", y recuerda que tienen que estar escritas con el orden que nos piden 1,2,3..."
   ]
  },
  {
   "cell_type": "code",
   "execution_count": 9,
   "id": "b53b04d5",
   "metadata": {},
   "outputs": [],
   "source": [
    "#ESCRIBE AQUI EL CÓDIGO DE TU PROGRAMACION \n",
    "encender(amarillo,3)\n",
    "encender(azul,1)\n",
    "sonar(timbre,1)"
   ]
  },
  {
   "cell_type": "markdown",
   "id": "d1365e51",
   "metadata": {},
   "source": [
    "Ahora tu, escribe y ejecuta un algoritmo con las siguientes instrucciones:\n",
    "\n",
    "    1-Encender el led roja durante 5 segundos\n",
    "    2-Que suene el timbre durante 3 segundo.\n",
    "    3-Enciende el led verde 1 segundo.\n",
    "    4-Que suene el timbre dos segundos."
   ]
  },
  {
   "cell_type": "markdown",
   "id": "9c3710a5",
   "metadata": {},
   "source": [
    "# La instrucción tiempo."
   ]
  },
  {
   "cell_type": "markdown",
   "id": "02294d32",
   "metadata": {},
   "source": [
    "En programación puede ser que queramos dar varias instrucciones seguidas dentro del algoritmo y entre ellas darle tiempo al robot que no haga nada.\n",
    "\n",
    "Para hacer eso tenemos la instruccción tiempo(), donde le decimos a nuestros robot que pare durante el tiempo que le digamos."
   ]
  },
  {
   "cell_type": "markdown",
   "id": "c1e99931",
   "metadata": {},
   "source": [
    "### ¿Como se programaría?"
   ]
  },
  {
   "cell_type": "markdown",
   "id": "0c848464",
   "metadata": {},
   "source": [
    "Se contruye muy facil, con la palabra tiempo(\"tiempo en segundos\") y dentro de los parantesis le decimos los segundos que tiene que estar parado.\n",
    "\n",
    "Ejemplos,\n",
    "\n",
    "        1, tiempo(5),le damos la instrucción al robot para que pare durante 5 segundos.\n",
    "        2, tiempo(10) para diez segundos."
   ]
  },
  {
   "cell_type": "markdown",
   "id": "b02ee455",
   "metadata": {},
   "source": [
    "### Un ejemplo de la instruccion sonar"
   ]
  },
  {
   "cell_type": "markdown",
   "id": "72ee666e",
   "metadata": {},
   "source": [
    "La utilizamos dentro de algoritmos, \n",
    "por ejemplo:\n",
    "\n",
    "    1-Encender led azul 3 segundos.\n",
    "    2-Que suene el timbre un segundo.\n",
    "    3-Tiempo de 2 segundos\n",
    "    4-Que se encienda el led verde 2 segundos.\n",
    "    5-Tiempo de 3 segundos.\n",
    "    6-Que suene el timbre 1 segundo\n",
    "    "
   ]
  },
  {
   "cell_type": "code",
   "execution_count": 7,
   "id": "9645f1f1",
   "metadata": {},
   "outputs": [
    {
     "name": "stdout",
     "output_type": "stream",
     "text": [
      "***********************************\n",
      "****FIN DE LA INSTRUCCIÓN SONAR****\n",
      "***********************************\n"
     ]
    }
   ],
   "source": [
    "#ESCRIBE AQUI EL CÓDIGO DE TU PROGRAMACION \n",
    "encender(azul,3)\n",
    "sonar(timbre,1)\n",
    "tiempo(2)\n",
    "encender(verde,2)\n",
    "tiempo(3)\n",
    "sonar(timbre,1)"
   ]
  },
  {
   "cell_type": "markdown",
   "id": "212240a7",
   "metadata": {},
   "source": [
    "### Ahora tu\n"
   ]
  },
  {
   "cell_type": "markdown",
   "id": "529967ce",
   "metadata": {},
   "source": [
    "Ahora tu, escribe y ejecuta un algoritmo con las siguientes instrucciones:\n",
    "\n",
    "    1-Encender el led roja durante 5 segundos.\n",
    "    2-tiempo durante dos segundos\n",
    "    3-Que suene el timbre durante 3 segundo."
   ]
  },
  {
   "cell_type": "code",
   "execution_count": null,
   "id": "e5080b3c",
   "metadata": {},
   "outputs": [],
   "source": [
    "#ESCRIBE AQUI EL CÓDIGO DE TU PROGRAMACION \n",
    "\n",
    "\n"
   ]
  },
  {
   "cell_type": "markdown",
   "id": "df73fb39",
   "metadata": {},
   "source": [
    "# Los Bucles"
   ]
  },
  {
   "cell_type": "markdown",
   "id": "b29be517",
   "metadata": {},
   "source": [
    "Como nos ha contado ya Maria Luisa muchas veces en clase, en programación los bucles son repeticiones durante un número de veces de:\n",
    "    \n",
    "        1,Una sola instrucción.\n",
    "        2,Ó un algoritmo, que hemos dicho que los algotimos son conjuntos ordenados de instrucciones."
   ]
  },
  {
   "cell_type": "markdown",
   "id": "a3512f28",
   "metadata": {},
   "source": [
    "Para programar algoritmos nosotros vamos a utilizar la instrucción \"repite\", donde le vamos a decir al robot, que repita una instrucción, o varias.  \n",
    "por(\"veces\",\"instrucción 1\", \"instrucción 2)"
   ]
  },
  {
   "cell_type": "code",
   "execution_count": 18,
   "id": "dc308729",
   "metadata": {},
   "outputs": [
    {
     "name": "stdout",
     "output_type": "stream",
     "text": [
      "****************************************\n",
      "****FIN DEL BUCLE 2***********\n",
      "****************************************\n"
     ]
    }
   ],
   "source": [
    "repite(3,encender,azul,encender,verde,sonar,timbre)"
   ]
  },
  {
   "cell_type": "markdown",
   "id": "bddf573e",
   "metadata": {},
   "source": [
    "# Los Sensores"
   ]
  },
  {
   "cell_type": "markdown",
   "id": "d15b1597",
   "metadata": {},
   "source": [
    "Los sensores son aparatos que sirven para detectar cosas, como movimiento, la temperatura, olores....\n",
    "\n",
    "Nuestro cuerpo esta lleno de sensores, que le mandan señales a nuestro cerebro.\n",
    "\n",
    "Con esas señales nuestro cerebro actua, por ejemplo si abrimos el ojo por la noche y vemos que aun esta oscuro nuestro cerebro que ha recibido esa señal del ojo le dira que sigamos durmiendo.\n",
    "\n",
    "Los ojos, que le van a mandar una señal a nuestro cerebro para decirle si por ejemplo si es dia o es de noche.\n",
    "\n",
    "Nuestra nariz, con los que al oler las lentejas le van van a decir a nuestro cerebro si estan ricas o no.\n",
    "\n",
    "Los oidos,el gusto...."
   ]
  },
  {
   "cell_type": "code",
   "execution_count": 11,
   "id": "d76e0e74",
   "metadata": {},
   "outputs": [
    {
     "data": {
      "text/html": [
       "<img src= \"brain\" style=\"height:100px  text-align: center\" >\n"
      ],
      "text/plain": [
       "<IPython.core.display.HTML object>"
      ]
     },
     "metadata": {},
     "output_type": "display_data"
    }
   ],
   "source": [
    "%%HTML\n",
    "<img src= \"brain\" style=\"height:100px  text-align: center\" >"
   ]
  },
  {
   "cell_type": "markdown",
   "id": "26439a05",
   "metadata": {},
   "source": [
    "# Los robots funcionan igual\n"
   ]
  },
  {
   "cell_type": "markdown",
   "id": "ca80d5de",
   "metadata": {},
   "source": [
    "Nuestro Cerebro.\n",
    "\n",
    "Nuestro cerebro es como un ordenador, que recibe señales de sensores como nuestros ojos(para ver), nariz(para oler algo), manos(tocamos), y actuamos  despues.\n",
    "\n",
    "Cuando nuestro cerebro recibe esas señales da instrucciones,por ejemplo  a nuestras manos, pies... \n",
    "\n",
    "Por ejemplo Si por la mañana vemos con nuestros ojos que es de dia nuestro cebrero nos dice que nos levantemos.\n",
    "\n",
    "Otro ejemplo, si vemos o olemos una tarta , el cerebro recibira señales de nuestros ojos y olfato...y le dirá a nuestras manos que la cojan para comerla¡¡"
   ]
  },
  {
   "cell_type": "markdown",
   "id": "10399902",
   "metadata": {},
   "source": [
    "Hay ordenadores que se pueden programar INSTRUCCIONES para recibir señales de sensores y dar ordenes cuando se reciban esas señales para que se enciendan bobillas, ó suene el timbre por ejemplo."
   ]
  },
  {
   "cell_type": "code",
   "execution_count": 4,
   "id": "e7458e8c",
   "metadata": {
    "scrolled": true
   },
   "outputs": [
    {
     "data": {
      "text/html": [
       "<img src= \"rp.jpg\" style=\"height:200px\"  >\n"
      ],
      "text/plain": [
       "<IPython.core.display.HTML object>"
      ]
     },
     "metadata": {},
     "output_type": "display_data"
    }
   ],
   "source": [
    "%%HTML\n",
    "<img src= \"rp.jpg\" style=\"height:200px\"  >"
   ]
  },
  {
   "cell_type": "markdown",
   "id": "125b0c87",
   "metadata": {},
   "source": [
    "# Tipos de sensores"
   ]
  },
  {
   "cell_type": "markdown",
   "id": "81d0d030",
   "metadata": {},
   "source": [
    "Hay infinidad de tipos de sensores, de temperatura, movimiento, humedad, sonido, acelerometros, ..."
   ]
  },
  {
   "cell_type": "markdown",
   "id": "41adfbb2",
   "metadata": {},
   "source": [
    "En nuestro Robot vamos a utilizar sensores de movimiento, que los utilizaremos  como los ojos del robot, ya que puede detectar movimiento cerca."
   ]
  },
  {
   "cell_type": "code",
   "execution_count": 5,
   "id": "e3175032",
   "metadata": {
    "slideshow": {
     "slide_type": "fragment"
    }
   },
   "outputs": [
    {
     "data": {
      "text/html": [
       "<img src= \"pir.jpg\" style=\"height:200px\"  >\n"
      ],
      "text/plain": [
       "<IPython.core.display.HTML object>"
      ]
     },
     "metadata": {},
     "output_type": "display_data"
    }
   ],
   "source": [
    "%%HTML\n",
    "<img src= \"pir.jpg\" style=\"height:200px\"  >"
   ]
  },
  {
   "cell_type": "markdown",
   "id": "f7e95229",
   "metadata": {},
   "source": [
    "Hay instrucciones especificas que sirven para preguntar a los sensores si ven, oyen o sienten algo.\n",
    "Si es asi los sensores mandan \"señales\" al ordenador, y este con esas señales puede tener otras instrucciones programadas que permiten encender leds y timbres solo cuando reciben una señal de los sensores."
   ]
  },
  {
   "cell_type": "markdown",
   "id": "20c73e7c",
   "metadata": {},
   "source": [
    "## La Instrucción VES"
   ]
  },
  {
   "cell_type": "markdown",
   "id": "12399c54",
   "metadata": {},
   "source": [
    "La instrucción VES nos sirve para ver si en nuestro robot un ojo nos ve."
   ]
  },
  {
   "cell_type": "markdown",
   "id": "290c4e9e",
   "metadata": {},
   "source": [
    "### ¿Como se programaría la instrucción VES?"
   ]
  },
  {
   "cell_type": "markdown",
   "id": "2c99b92b",
   "metadata": {},
   "source": [
    "\n",
    "Muy sencillo, con la palabra VES le tenemos que decir unicamente el ojo que queremos probar de la siguiente forma:\n",
    "\n",
    "        VES(\"ojo\")"
   ]
  },
  {
   "cell_type": "markdown",
   "id": "c4864d2f",
   "metadata": {},
   "source": [
    "### Un ejemplo de la instruccion VES"
   ]
  },
  {
   "cell_type": "markdown",
   "id": "fb4519f2",
   "metadata": {},
   "source": [
    "Vamos a preguntarle al robot si el ojo 1 nos ve"
   ]
  },
  {
   "cell_type": "code",
   "execution_count": 2,
   "id": "9c89a27b",
   "metadata": {},
   "outputs": [
    {
     "name": "stdout",
     "output_type": "stream",
     "text": [
      "AHORA ESTOY APAGADO\n"
     ]
    }
   ],
   "source": [
    "#ESCRIBE AQUI EL CÓDIGO DE TU PROGRAMACION \n",
    "VES(ojo2)"
   ]
  },
  {
   "cell_type": "markdown",
   "id": "6c36ab21",
   "metadata": {},
   "source": [
    "# La función SI"
   ]
  },
  {
   "cell_type": "markdown",
   "id": "96816c4a",
   "metadata": {},
   "source": [
    "En nuestro dia a dia siempre decimos mucho la palabra SI, no solo para afirma algo como cuando nos preguntan algo como ¿Tienes hambre?,  \n",
    "\n",
    "Sino tambien como una palabra condicional, como por ejemplo, \"SI APAGAS LA LUZ, YO NO VEO\", \"SI LE PONES AZUCAR AL CAFE VA A ESTAR DULCE\".\n",
    "\n",
    "Es decir SI \"ocurre A\", por tanto tambien \"pasará B\", por tanto A es la conidción para que ocurra B.\n",
    "\n"
   ]
  },
  {
   "cell_type": "markdown",
   "id": "55368570",
   "metadata": {},
   "source": [
    "        ¡¡Es decir la condición y el resultado¡¡"
   ]
  },
  {
   "cell_type": "markdown",
   "id": "6ccd2a1b",
   "metadata": {},
   "source": [
    "1)Yo no voy a ver, es resultado de SI apago la luz como condición."
   ]
  },
  {
   "cell_type": "markdown",
   "id": "6e7c9a6d",
   "metadata": {},
   "source": [
    "2)El café estará dulce,solo SI le pones azucar como condición."
   ]
  },
  {
   "cell_type": "markdown",
   "id": "2f18ec65",
   "metadata": {},
   "source": [
    "Los robots pueden funcionar con instrucciones condicionantes Ó si.\n"
   ]
  },
  {
   "cell_type": "markdown",
   "id": "4a4a08c3",
   "metadata": {},
   "source": [
    "La función si es una función formada por dos partes. \n",
    "\n",
    "    La primera es la condición, en nuestro robot por ejemplo sobre el ojo que quieres que nos vea ,\n",
    "\n",
    "    y la segunda,que colores de led ó timbre queremos encedender cuando SOLO no vea el ojo que hemos elegido.\n",
    "    \n",
    "  *Nota, en la segunda parte de la instrucción puedes poner un algoritmo con varias instrucciones."
   ]
  },
  {
   "cell_type": "markdown",
   "id": "d1605b4b",
   "metadata": {},
   "source": [
    "### ¿Como se programaría la instrucción condicional SI?"
   ]
  },
  {
   "cell_type": "markdown",
   "id": "604eda44",
   "metadata": {},
   "source": [
    "\n",
    "\n",
    "Muy sencillo, con la palabra SI le decimos  primero la condición(ojo1 ó ojo2) y luego la secuencia de instrucciones de la siguiente forma:\n",
    "\n",
    "        SI(condición1,instruccion1,instruccion2,instruccion3)"
   ]
  },
  {
   "cell_type": "markdown",
   "id": "57d803b6",
   "metadata": {},
   "source": [
    "### Un ejemplo de la instrucción condicional SI"
   ]
  },
  {
   "cell_type": "markdown",
   "id": "0fa7431e",
   "metadata": {},
   "source": [
    "Haz que se encienda la luz amarilla y suene el tiembre, cuando solo cuando te vea el ojo2."
   ]
  },
  {
   "cell_type": "code",
   "execution_count": 16,
   "id": "59d369be",
   "metadata": {},
   "outputs": [],
   "source": [
    "encender(amarillo,1)"
   ]
  },
  {
   "cell_type": "code",
   "execution_count": 18,
   "id": "d125fd19",
   "metadata": {},
   "outputs": [
    {
     "name": "stdout",
     "output_type": "stream",
     "text": [
      "AHORA ESTOY APAGADO\n"
     ]
    }
   ],
   "source": [
    "SINO(ojo2,amarillo,rojo)"
   ]
  },
  {
   "cell_type": "code",
   "execution_count": 3,
   "id": "de600bf4",
   "metadata": {},
   "outputs": [
    {
     "name": "stdout",
     "output_type": "stream",
     "text": [
      "AHORA ESTOY APAGADO\n"
     ]
    }
   ],
   "source": [
    "#ESCRIBE AQUI EL CÓDIGO DE TU PROGRAMACION \n",
    "SI(ojo1,azul)"
   ]
  },
  {
   "cell_type": "markdown",
   "id": "437030a3",
   "metadata": {},
   "source": [
    "### Ahora tu"
   ]
  },
  {
   "cell_type": "markdown",
   "id": "5f021514",
   "metadata": {},
   "source": [
    "Ahora te toca a ti hacerlo,\n",
    "        \n",
    "        1.SI te veo con el ojo1.\n",
    "        2.SONRISA!!\n",
    "    \n",
    "*Nota, El algoritmo de la sonrisa es la secuencia de instrucciones rojo,amarillo,verde, azul\n"
   ]
  },
  {
   "cell_type": "code",
   "execution_count": 2,
   "id": "9d0f2b94",
   "metadata": {},
   "outputs": [
    {
     "name": "stdout",
     "output_type": "stream",
     "text": [
      "AHORA ESTOY APAGADO\n"
     ]
    }
   ],
   "source": [
    "#ESCRIBE AQUI EL CÓDIGO DE TU PROGRAMACION \n",
    "SI(ojo1,rojo,amarillo,verde,azul)"
   ]
  },
  {
   "cell_type": "markdown",
   "id": "95687212",
   "metadata": {},
   "source": [
    "# ¿Que pasa si tengo varias señales a la vez?"
   ]
  },
  {
   "cell_type": "markdown",
   "id": "85d3da79",
   "metadata": {},
   "source": [
    "Podemos hacer que las condiciones reciban señales de varios sensores  a la vez, y que las luces se enciendan SOLO cuando esas condiciones se den todas a la vez ó con que solo una se de ya nos vale."
   ]
  },
  {
   "cell_type": "markdown",
   "id": "8c28d1da",
   "metadata": {},
   "source": [
    "## La Instrucción Y"
   ]
  },
  {
   "cell_type": "markdown",
   "id": "f305b7cd",
   "metadata": {},
   "source": [
    "Utilizamos la instrucción Y cuando se tenienen que cumplir varias condiciones a la vez. "
   ]
  },
  {
   "cell_type": "markdown",
   "id": "34b062fd",
   "metadata": {},
   "source": [
    "En nuestro robot igual, necesitaremos que nos vean los dos ojos para que podamos ejecutar una instrucción por ejemplo de encender un led."
   ]
  },
  {
   "cell_type": "markdown",
   "id": "05f8af12",
   "metadata": {},
   "source": [
    "### ¿Como se escribe la instrucción condicional SI?"
   ]
  },
  {
   "cell_type": "markdown",
   "id": "6e82e227",
   "metadata": {},
   "source": [
    "Muy sencillo, con la palabra \"Y\" le decimos primero las dos condciones (ojo1 y el ojo2), y luego la secuencia de instrucciones de la forma:\n",
    "\n",
    "    Y(condición1,condición2,instruccion1,instruccion2,instruccion3)"
   ]
  },
  {
   "cell_type": "markdown",
   "id": "a04fe579",
   "metadata": {},
   "source": [
    "### Un ejemplo de la función Y"
   ]
  },
  {
   "cell_type": "markdown",
   "id": "8f2962c0",
   "metadata": {},
   "source": [
    "Haz que se encienda ahora tu la luz azul y suene el timbre siempre y cuando lo vean los dos ojos a la vez."
   ]
  },
  {
   "cell_type": "code",
   "execution_count": 30,
   "id": "220b6b27",
   "metadata": {},
   "outputs": [],
   "source": [
    "def Y(ojoA,ojoB,sens1,sens2=None,sens3=None,sens4=None):\n",
    "    GPIO.setup(ojoA, GPIO.IN)\n",
    "    GPIO.setup(ojoB, GPIO.IN)\n",
    "    GPIO.setup(rojo, GPIO.OUT)\n",
    "    GPIO.setup(amarillo, GPIO.OUT)\n",
    "    GPIO.setup(azul, GPIO.OUT)\n",
    "    GPIO.setup(verde, GPIO.OUT)\n",
    "    GPIO.setup(timbre, GPIO.OUT)\n",
    "    kk=0 \n",
    "    z=0\n",
    "    while True:\n",
    "      try: \n",
    "           kk=0\n",
    "           while kk==0:\n",
    "            \n",
    "            try:\n",
    "               if z>6:\n",
    "                    kk=0\n",
    "                    z=0 \n",
    "               clear_output(wait=True)\n",
    "               print(\"NO SE CUMPLEN LAS DOS CONDICIONES¡¡¡¡\")\n",
    "                \n",
    "               i= 0 if GPIO.input(ojoA)==0 else 1\n",
    "               i2= 0 if GPIO.input(ojoB)==0 else 1\n",
    "               kk= kk+ i*i2\n",
    "               #clear_output(wait=True)\n",
    "              # print(kk)\n",
    "               sleep(0.5)\n",
    "               z=z+1\n",
    "            except KeyboardInterrupt:\n",
    "                print(\"AHORA ESTOY APAGADO\")\n",
    "             \n",
    "           if kk==1:\n",
    "\n",
    "                print(\"GENIAL SE CUMPLEN LAS DOS CONDICIONES¡¡¡¡\")\n",
    "                #encender(rojo,1)\n",
    "                encender(sens1,6) \n",
    "                                \n",
    "                if sens2 ==None:\n",
    "                    pass\n",
    "                else:\n",
    "\n",
    "                    encender(sens2,2)\n",
    "                    \n",
    "                if sens3 ==None:\n",
    "                    pass\n",
    "                else:\n",
    "                    encender(sens3,1)\n",
    "                \n",
    "                if sens4 ==None:\n",
    "                    pass\n",
    "                else:\n",
    "                    encender(sens4,1)\n",
    "                sleep(1)\n",
    "                clear_output(wait=True)\n",
    "                #sleep(3)\n",
    "           else:\n",
    "                print(\"NO SE CUMPLEN LAS DOS CONDICIONES¡¡¡¡\")\n",
    "                clear_output(wait=True)\n",
    "\n",
    "           \n",
    "           sleep(0.2)\n",
    "      except KeyboardInterrupt:\n",
    "                GPIO.output(timbre,GPIO.LOW)\n",
    "                GPIO.output(rojo,GPIO.LOW)\n",
    "                GPIO.output(amarillo,GPIO.LOW)\n",
    "                GPIO.output(azul,GPIO.LOW)\n",
    "                GPIO.output(verde,GPIO.LOW)\n",
    "                print(\"AHORA ESTOY APAGADO\")\n",
    "                break\n",
    "    "
   ]
  },
  {
   "cell_type": "code",
   "execution_count": null,
   "id": "c53079f9",
   "metadata": {},
   "outputs": [
    {
     "name": "stdout",
     "output_type": "stream",
     "text": [
      "NO SE CUMPLEN LAS DOS CONDICIONES¡¡¡¡\n",
      "GENIAL SE CUMPLEN LAS DOS CONDICIONES¡¡¡¡\n"
     ]
    }
   ],
   "source": [
    "#ESCRIBE AQUI EL CÓDIGO DE TU PROGRAMACION \n",
    "\n",
    "Y(ojo1,ojo2,azul)"
   ]
  },
  {
   "cell_type": "markdown",
   "id": "af7d750e",
   "metadata": {},
   "source": [
    "### Ahora te toca a ti"
   ]
  },
  {
   "cell_type": "markdown",
   "id": "2a292b64",
   "metadata": {},
   "source": [
    "Ahora te toca a ti hacerlo,\n",
    "\n",
    "        1.SI te veo con el ojo1 Y el ojo2.\n",
    "        2.SONRISA!!\n",
    "        \n",
    "*Nota, El algoritmo de la sonrisa es la secuencia de instrucciones rojo,amarillo,verde, azul\n"
   ]
  },
  {
   "cell_type": "code",
   "execution_count": null,
   "id": "afc84392",
   "metadata": {},
   "outputs": [],
   "source": [
    "#ESCRIBE AQUI EL CÓDIGO DE TU PROGRAMACION \n"
   ]
  },
  {
   "cell_type": "markdown",
   "id": "af18a034",
   "metadata": {},
   "source": [
    "## La Instrucción O\n"
   ]
  },
  {
   "cell_type": "markdown",
   "id": "dcf51d8d",
   "metadata": {},
   "source": [
    "Utilizamos la instrucción O de \"Orense\" cuando solo hace falta que se active un sensor, en nuestro caso un ojo. "
   ]
  },
  {
   "cell_type": "markdown",
   "id": "9f6df959",
   "metadata": {},
   "source": [
    "### ¿Como se escribe la instrucción condicional SI?\n"
   ]
  },
  {
   "cell_type": "markdown",
   "id": "e161a069",
   "metadata": {},
   "source": [
    "Muy sencillo, con la palabra \"O\" le decimos primero las dos condciones (ojo1 y el ojo2)que se pueden cumplir, y luego la secuencia de instrucciones de la forma:\n",
    "\n",
    "    O(condición1,condición2,instruccion1,instruccion2,instruccion3)"
   ]
  },
  {
   "cell_type": "markdown",
   "id": "7ab17cc0",
   "metadata": {},
   "source": [
    "### Un ejemplo de la función O\n"
   ]
  },
  {
   "cell_type": "markdown",
   "id": "7a0b2d00",
   "metadata": {},
   "source": [
    "Haz que se encienda ahora tu la luz roja y suene el timbre cuando lo vea cualquiera de los dos ojos, o uno ó el otro."
   ]
  },
  {
   "cell_type": "code",
   "execution_count": 1,
   "id": "ea8c09e3",
   "metadata": {},
   "outputs": [
    {
     "name": "stdout",
     "output_type": "stream",
     "text": [
      "********************************************\n",
      "**NO SE CUMPLE NINGUNA DE LAS CONDICIONES**\n",
      "********************************************\n",
      "Fin del programa.\n"
     ]
    },
    {
     "data": {
      "text/plain": [
       "1"
      ]
     },
     "execution_count": 1,
     "metadata": {},
     "output_type": "execute_result"
    }
   ],
   "source": [
    "from funciones import *\n",
    "#ESCRIBE AQUI EL CÓDIGO DE TU PROGRAMACION \n",
    "\n",
    "O(ojo1,ojo2,azul,timbre)"
   ]
  },
  {
   "cell_type": "markdown",
   "id": "72fe4c79",
   "metadata": {},
   "source": [
    "### Ahora te toca a ti"
   ]
  },
  {
   "cell_type": "markdown",
   "id": "31c97b23",
   "metadata": {},
   "source": [
    "Ahora te toca a ti hacerlo,\n",
    "\n",
    "        1.SI te veo con el ojo1 Y el ojo2.\n",
    "        2.SONRISA!!\n",
    "        \n",
    "*Nota, El algoritmo de la sonrisa es la secuencia de instrucciones rojo,amarillo,verde, azul\n"
   ]
  },
  {
   "cell_type": "code",
   "execution_count": null,
   "id": "9815c86d",
   "metadata": {},
   "outputs": [],
   "source": [
    "#ESCRIBE AQUI EL CÓDIGO DE TU PROGRAMACION "
   ]
  },
  {
   "cell_type": "code",
   "execution_count": null,
   "id": "cbc17f80",
   "metadata": {},
   "outputs": [],
   "source": []
  },
  {
   "cell_type": "code",
   "execution_count": null,
   "id": "72f5dea4",
   "metadata": {},
   "outputs": [],
   "source": []
  },
  {
   "cell_type": "code",
   "execution_count": null,
   "id": "6c12ef31",
   "metadata": {},
   "outputs": [],
   "source": []
  }
 ],
 "metadata": {
  "kernelspec": {
   "display_name": "Python 3 (ipykernel)",
   "language": "python",
   "name": "python3"
  },
  "language_info": {
   "codemirror_mode": {
    "name": "ipython",
    "version": 3
   },
   "file_extension": ".py",
   "mimetype": "text/x-python",
   "name": "python",
   "nbconvert_exporter": "python",
   "pygments_lexer": "ipython3",
   "version": "3.9.2"
  }
 },
 "nbformat": 4,
 "nbformat_minor": 5
}
