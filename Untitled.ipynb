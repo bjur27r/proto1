{
 "cells": [
  {
   "cell_type": "code",
   "execution_count": 4,
   "id": "f0b873bc",
   "metadata": {},
   "outputs": [],
   "source": [
    "#Cargamos librerias\n",
    "from functions import *"
   ]
  },
  {
   "cell_type": "markdown",
   "id": "b1f3f7b6",
   "metadata": {},
   "source": [
    "Para empezar a trabajar con nuestro robot vamos a activarle con la función \"EMPEZAR\". \n",
    "Recuerda que para ejecutar una instrucción hace falta darle al botoń del \"play\""
   ]
  },
  {
   "cell_type": "code",
   "execution_count": 5,
   "id": "1b5f266f",
   "metadata": {},
   "outputs": [
    {
     "name": "stdout",
     "output_type": "stream",
     "text": [
      "   __,_,\n",
      "  [_|_/ \n",
      "   //\n",
      " _//    __\n",
      "(_|)   |@@|\n",
      " \\ \\__ \\--/ __\n",
      "  \\o__|----|  |   __\n",
      "      \\ }{ /\\ )_ / _\n",
      "      /\\__/\\ \\__O (__\n",
      "      (--/\\--)    \\__/\n",
      "      _)(  )(_\n",
      "     `---''---`\n",
      "¡YA PODEMOS EMPEZAR CON NUESTRO ROBOT¡\n"
     ]
    }
   ],
   "source": [
    "EMPEZAR() "
   ]
  },
  {
   "cell_type": "code",
   "execution_count": null,
   "id": "ee356511",
   "metadata": {},
   "outputs": [],
   "source": []
  },
  {
   "cell_type": "code",
   "execution_count": null,
   "id": "5a2d8a34",
   "metadata": {},
   "outputs": [],
   "source": []
  }
 ],
 "metadata": {
  "kernelspec": {
   "display_name": "Python 3 (ipykernel)",
   "language": "python",
   "name": "python3"
  },
  "language_info": {
   "codemirror_mode": {
    "name": "ipython",
    "version": 3
   },
   "file_extension": ".py",
   "mimetype": "text/x-python",
   "name": "python",
   "nbconvert_exporter": "python",
   "pygments_lexer": "ipython3",
   "version": "3.9.2"
  }
 },
 "nbformat": 4,
 "nbformat_minor": 5
}
